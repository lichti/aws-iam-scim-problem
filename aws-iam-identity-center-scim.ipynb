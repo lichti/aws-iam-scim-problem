{
 "cells": [
  {
   "cell_type": "markdown",
   "id": "9f7a4a04-2bb3-433b-8378-17c978c21ce6",
   "metadata": {},
   "source": [
    "# AWS Wrong implementation of the SCIM protocol"
   ]
  },
  {
   "cell_type": "markdown",
   "id": "61e4dfba-6d24-4bc8-a375-b7ef7dc4bf03",
   "metadata": {},
   "source": [
    "* Author: Gustavo Lichti Mendonça\n",
    "* Mail: gustavo.lichti@gmail.com\n",
    "* This Code: https://github.com/lichti/aws-iam-scim-problem"
   ]
  },
  {
   "cell_type": "markdown",
   "id": "7d917c8d-ce5a-4cb8-a7a9-4c6183a31712",
   "metadata": {},
   "source": [
    "## Apology for cyberark"
   ]
  },
  {
   "cell_type": "markdown",
   "id": "d7b9bad3-885f-4315-804e-08398504c91e",
   "metadata": {},
   "source": [
    "On November 6, 2021, I published a repository called [AWS-SSO-PROVISIONING](https://github.com/lichti/aws-sso-provisioning) criticizing CyberArk. However, on March 4, 2023, I forked it and created another repository called [aws-sso-google-sync](https://github.com/lichti/aws-sso-google-sync). While implementing the routine to [Remove or Empty deleted groups from Google Directory](https://github.com/lichti/aws-sso-google-sync?tab=readme-ov-file#remove-or-empty-deleted-groups-from-google-directory), I discovered a logic error in the [UpdateGroup](https://github.com/lichti/aws-sso-provisioning?tab=readme-ov-file#updategroup) method that prevented the routine from executing when `members` was an empty list. That day, after much head-scratching, I identified the mistake that I am now disclosing.\n",
    "\n",
    "This disclosure comes in the form of an apology to CyberArk because one of the issues was precisely this, and had it not been for a logic error, I would have understood it, and the public criticism would not have existed."
   ]
  },
  {
   "cell_type": "markdown",
   "id": "857dfa1c",
   "metadata": {
    "jp-MarkdownHeadingCollapsed": true
   },
   "source": [
    "# Deps, Config and Helpers"
   ]
  },
  {
   "cell_type": "markdown",
   "id": "a3d1e970",
   "metadata": {},
   "source": [
    "## Dependencies installing"
   ]
  },
  {
   "cell_type": "code",
   "execution_count": null,
   "id": "bba0f323",
   "metadata": {
    "tags": []
   },
   "outputs": [],
   "source": [
    "%%bash\n",
    "pip install requests\n",
    "pip install pyyaml"
   ]
  },
  {
   "cell_type": "markdown",
   "id": "264b38da",
   "metadata": {},
   "source": [
    "## Imports"
   ]
  },
  {
   "cell_type": "code",
   "execution_count": null,
   "id": "8af8ab39",
   "metadata": {},
   "outputs": [],
   "source": [
    "import requests\n",
    "import json\n",
    "import configparser\n",
    "import time"
   ]
  },
  {
   "cell_type": "markdown",
   "id": "18dda11f-540a-4b5a-add5-793e50438496",
   "metadata": {},
   "source": [
    "## Load config file with credentials"
   ]
  },
  {
   "cell_type": "markdown",
   "id": "85b03f5a-25b5-45d1-af59-8d397f284f05",
   "metadata": {},
   "source": [
    "Read more about configparser: https://docs.python.org/3/library/configparser.html\n",
    "\n",
    "Config Teamplate:\n",
    "\n",
    "```text\n",
    "[AWS-SSO-SCIM]\n",
    "base_url = https://scim.us-east-1.amazonaws.com/YOUR-AWS-SSO-ID/scim/v2/\n",
    "bearertoken = YOUR-AWS-SSO-BEARERTOKEN\n",
    "```"
   ]
  },
  {
   "cell_type": "code",
   "execution_count": null,
   "id": "a3db5fbe-3d62-4eed-a31d-7d8b37fd2e11",
   "metadata": {},
   "outputs": [],
   "source": [
    "config = configparser.ConfigParser()\n",
    "config.read('aws-sso-scim.ini')"
   ]
  },
  {
   "cell_type": "markdown",
   "id": "9fd86fdf",
   "metadata": {},
   "source": [
    "## SCIM AWS SSO CONFIG"
   ]
  },
  {
   "cell_type": "markdown",
   "id": "bcbbbd2c-542f-4797-9003-54763347f217",
   "metadata": {},
   "source": [
    "Learn more about AWS SSO SCIM:\n",
    "* https://docs.aws.amazon.com/singlesignon/latest/developerguide/supported-apis.html"
   ]
  },
  {
   "cell_type": "code",
   "execution_count": null,
   "id": "67a54a16",
   "metadata": {
    "tags": []
   },
   "outputs": [],
   "source": [
    "base_url = config['AWS-SSO-SCIM']['base_url']\n",
    "bearertoken = config['AWS-SSO-SCIM']['bearertoken']\n",
    "users_url = f\"{base_url}Users\"\n",
    "headers_auth = {\"Authorization\": f\"Bearer {bearertoken}\", \"Content-type\": \"application/json\"}"
   ]
  },
  {
   "cell_type": "markdown",
   "id": "f533c53f",
   "metadata": {},
   "source": [
    "## HTTP helpers"
   ]
  },
  {
   "cell_type": "markdown",
   "id": "e04046d1-59f5-48e2-95f3-ff140762660a",
   "metadata": {},
   "source": [
    "Basic http methods helpers (get, post, put, patch, delete)\n",
    "\n",
    "Recommended reading: \n",
    "* https://datatracker.ietf.org/doc/html/rfc7231#section-4.3\n",
    "* https://datatracker.ietf.org/doc/html/rfc7644#section-3.2"
   ]
  },
  {
   "cell_type": "markdown",
   "id": "83b52c32",
   "metadata": {},
   "source": [
    "### Get"
   ]
  },
  {
   "cell_type": "code",
   "execution_count": null,
   "id": "6b9eeb20",
   "metadata": {},
   "outputs": [],
   "source": [
    "def get(path=None, params=None):\n",
    "    return requests.get(f\"{base_url}{path}\",headers=headers_auth, params=params)"
   ]
  },
  {
   "cell_type": "markdown",
   "id": "32d5a237",
   "metadata": {},
   "source": [
    "### Post"
   ]
  },
  {
   "cell_type": "code",
   "execution_count": null,
   "id": "424bbf45",
   "metadata": {},
   "outputs": [],
   "source": [
    "def post(path=None, params=None, data=None):\n",
    "    return requests.post(f\"{base_url}{path}\",headers=headers_auth, data=data)"
   ]
  },
  {
   "cell_type": "markdown",
   "id": "0916ac06",
   "metadata": {},
   "source": [
    "### Put"
   ]
  },
  {
   "cell_type": "code",
   "execution_count": null,
   "id": "32529fd0",
   "metadata": {},
   "outputs": [],
   "source": [
    "def put(path=None, params=None, data=None):\n",
    "    return requests.put(f\"{base_url}{path}\",headers=headers_auth, data=data)"
   ]
  },
  {
   "cell_type": "markdown",
   "id": "14b49841",
   "metadata": {},
   "source": [
    "### Patch"
   ]
  },
  {
   "cell_type": "code",
   "execution_count": null,
   "id": "0f0cb212",
   "metadata": {},
   "outputs": [],
   "source": [
    "def patch(path=None, params=None, data=None):\n",
    "    return requests.patch(f\"{base_url}{path}\",headers=headers_auth, data=data)"
   ]
  },
  {
   "cell_type": "markdown",
   "id": "465ccf4e",
   "metadata": {},
   "source": [
    "### Delete"
   ]
  },
  {
   "cell_type": "code",
   "execution_count": null,
   "id": "1e8fa481",
   "metadata": {},
   "outputs": [],
   "source": [
    "def delete(path=None):\n",
    "    return requests.delete(f\"{base_url}{path}\",headers=headers_auth)"
   ]
  },
  {
   "cell_type": "markdown",
   "id": "dc8e4a6c",
   "metadata": {},
   "source": [
    "## SCIM helpers"
   ]
  },
  {
   "cell_type": "markdown",
   "id": "1d8f1dad-31e7-4518-9b8b-b0f04e9bbf2e",
   "metadata": {},
   "source": [
    "Basic SCIM methods helpers\n",
    "\n",
    "Learn more abut SCIM:\n",
    "* https://datatracker.ietf.org/doc/html/rfc7642\n",
    "* https://datatracker.ietf.org/doc/html/rfc7643\n",
    "* https://datatracker.ietf.org/doc/html/rfc7644\n",
    "* https://openid.net/specs/fastfed-scim-1_0-02.html#rfc.section.4"
   ]
  },
  {
   "cell_type": "markdown",
   "id": "7f1cd6f9",
   "metadata": {},
   "source": [
    "### Users"
   ]
  },
  {
   "cell_type": "markdown",
   "id": "8bffb3b7",
   "metadata": {},
   "source": [
    "#### CreateUser"
   ]
  },
  {
   "cell_type": "markdown",
   "id": "dc40a575-0778-4ea0-b65c-6d3a1647ced5",
   "metadata": {},
   "source": [
    "https://datatracker.ietf.org/doc/html/rfc7644#section-3.3"
   ]
  },
  {
   "cell_type": "code",
   "execution_count": null,
   "id": "8c2be0e0",
   "metadata": {
    "tags": []
   },
   "outputs": [],
   "source": [
    "def createUser(userName=None,familyName=None,givenName=None,displayName=None,email=None,\n",
    "               preferredLanguage=\"en-US\",locale=\"en-US\",timezone=\"America/Sao_Paulo\",active=True):\n",
    "    if userName and familyName and givenName and displayName and email:\n",
    "        data = {\n",
    "            \"userName\": f\"{userName}\",\n",
    "            \"name\": {\n",
    "                \"familyName\": f\"{familyName}\",\n",
    "                \"givenName\": f\"{givenName}\",\n",
    "            },\n",
    "            \"displayName\": f\"{displayName}\",\n",
    "            \"emails\": [\n",
    "                {\n",
    "                    \"value\": f\"{email}\",\n",
    "                    \"type\": \"work\",\n",
    "                    \"primary\": True\n",
    "                }\n",
    "            ],\n",
    "            \"preferredLanguage\": f\"{preferredLanguage}\",\n",
    "            \"locale\": f\"{locale}\",\n",
    "            \"timezone\": f\"{timezone}\",\n",
    "            \"active\": f\"{active}\",\n",
    "        }\n",
    "        res = post(path=f\"Users\", data=json.dumps(data))\n",
    "        if res.status_code == 201:\n",
    "            return json.loads(res.text)['id']\n",
    "        else:\n",
    "            print(res.content)"
   ]
  },
  {
   "cell_type": "markdown",
   "id": "aa1e82a0",
   "metadata": {},
   "source": [
    "#### ListUsers"
   ]
  },
  {
   "cell_type": "markdown",
   "id": "cd1f5177-d21d-407c-bf79-299fe458f56b",
   "metadata": {},
   "source": [
    "https://datatracker.ietf.org/doc/html/rfc7644#section-3.4.1"
   ]
  },
  {
   "cell_type": "code",
   "execution_count": null,
   "id": "ce1738df",
   "metadata": {},
   "outputs": [],
   "source": [
    "def listUsers(params=None):\n",
    "    res = get(path='Users',params=params)\n",
    "    if res.status_code == 200:\n",
    "        users = json.loads(res.text)\n",
    "        return users"
   ]
  },
  {
   "cell_type": "markdown",
   "id": "252bee54",
   "metadata": {},
   "source": [
    "#### HasUserByUsername"
   ]
  },
  {
   "cell_type": "markdown",
   "id": "05336e21-7960-4f6e-977f-a90921937f87",
   "metadata": {},
   "source": [
    "https://datatracker.ietf.org/doc/html/rfc7644#section-3.4.1"
   ]
  },
  {
   "cell_type": "code",
   "execution_count": null,
   "id": "c94676d8",
   "metadata": {},
   "outputs": [],
   "source": [
    "def hasUserByUsername(userName=None):\n",
    "    if userName:\n",
    "        users = listUsers(f'filter=userName eq \"{userName}\"')['Resources']\n",
    "        for u in users:\n",
    "            if u['userName'] == userName:\n",
    "                return True\n",
    "    return False"
   ]
  },
  {
   "cell_type": "markdown",
   "id": "85d356c6",
   "metadata": {},
   "source": [
    "#### GetUserIDByUsername"
   ]
  },
  {
   "cell_type": "markdown",
   "id": "87b516ac-ed0d-40e8-8355-6be87f3dae53",
   "metadata": {},
   "source": [
    "https://datatracker.ietf.org/doc/html/rfc7644#section-3.4.1"
   ]
  },
  {
   "cell_type": "code",
   "execution_count": null,
   "id": "a2f666a9",
   "metadata": {},
   "outputs": [],
   "source": [
    "def getUserIDByUsername(userName=None):\n",
    "    if userName:\n",
    "        users = listUsers(f'filter=userName eq \"{userName}\"')['Resources']\n",
    "        for u in users:\n",
    "            if u['userName'] == userName:\n",
    "                return u['id']"
   ]
  },
  {
   "cell_type": "markdown",
   "id": "6b5850ae",
   "metadata": {},
   "source": [
    "#### GetUser"
   ]
  },
  {
   "cell_type": "markdown",
   "id": "2802c9d9-542f-4749-95b6-ab97d0a844a4",
   "metadata": {},
   "source": [
    "https://datatracker.ietf.org/doc/html/rfc7644#section-3.4.1"
   ]
  },
  {
   "cell_type": "code",
   "execution_count": null,
   "id": "564c3516",
   "metadata": {},
   "outputs": [],
   "source": [
    "def getUser(user_id=None):\n",
    "    if user_id:\n",
    "        res = get(path=f\"Users/{user_id}\")\n",
    "        if res.status_code == 200:\n",
    "            return json.loads(res.text)"
   ]
  },
  {
   "cell_type": "markdown",
   "id": "ff84586a",
   "metadata": {},
   "source": [
    "#### ReplaceUser"
   ]
  },
  {
   "cell_type": "markdown",
   "id": "58b6b8b9-c7da-4acf-9484-7d1c7b89305e",
   "metadata": {},
   "source": [
    "https://datatracker.ietf.org/doc/html/rfc7644#section-3.5.1"
   ]
  },
  {
   "cell_type": "code",
   "execution_count": null,
   "id": "36de3539",
   "metadata": {},
   "outputs": [],
   "source": [
    "def replaceUser(user_id=None,userName=None,familyName=None,givenName=None,displayName=None,email=None,\n",
    "               preferredLanguage=\"en-US\",locale=\"en-US\",timezone=\"America/Sao_Paulo\",active=True):\n",
    "    if user_id and userName and familyName and givenName and displayName and email:\n",
    "        data = {\n",
    "            \"id\": f\"{user_id}\",\n",
    "            \"userName\": f\"{userName}\",\n",
    "            \"name\": {\n",
    "                \"familyName\": f\"{familyName}\",\n",
    "                \"givenName\": f\"{givenName}\",\n",
    "            },\n",
    "            \"displayName\": f\"{displayName}\",\n",
    "            \"emails\": [\n",
    "                {\n",
    "                    \"value\": f\"{email}\",\n",
    "                    \"type\": \"work\",\n",
    "                    \"primary\": True\n",
    "                }\n",
    "            ],\n",
    "            \"preferredLanguage\": f\"{preferredLanguage}\",\n",
    "            \"locale\": f\"{locale}\",\n",
    "            \"timezone\": f\"{timezone}\",\n",
    "            \"active\": f\"{active}\",\n",
    "        }\n",
    "        res = put(path=f\"Users/{user_id}\", data=json.dumps(data))\n",
    "        if res.status_code == 200:\n",
    "            return json.loads(res.text)['id']\n",
    "        else:\n",
    "            print(res.content)"
   ]
  },
  {
   "cell_type": "markdown",
   "id": "b4114ffb",
   "metadata": {},
   "source": [
    "#### UpdateUser - I need improve this..."
   ]
  },
  {
   "cell_type": "markdown",
   "id": "55b80da9-a7fe-4021-8c50-3810b589b80c",
   "metadata": {},
   "source": [
    "https://datatracker.ietf.org/doc/html/rfc7644#section-3.5.2"
   ]
  },
  {
   "cell_type": "code",
   "execution_count": null,
   "id": "a4be4188",
   "metadata": {},
   "outputs": [],
   "source": [
    "def updateUser(user_id=None, data=None):\n",
    "    return json.loads(patch(path=f\"Users/{user_id}\", data=data).text)"
   ]
  },
  {
   "cell_type": "markdown",
   "id": "7493edd6",
   "metadata": {},
   "source": [
    "#### DeleteUser"
   ]
  },
  {
   "cell_type": "markdown",
   "id": "13ef5b32-e910-441b-b41c-4bd847ebd71c",
   "metadata": {},
   "source": [
    "https://datatracker.ietf.org/doc/html/rfc7644#section-3.6"
   ]
  },
  {
   "cell_type": "code",
   "execution_count": null,
   "id": "d052b068",
   "metadata": {},
   "outputs": [],
   "source": [
    "def deleteUser(user_id=None):\n",
    "    res = delete(path=f\"Users/{user_id}\")\n",
    "    if res.status_code == 204:\n",
    "        return True\n",
    "    return False"
   ]
  },
  {
   "cell_type": "markdown",
   "id": "a9ef1843",
   "metadata": {},
   "source": [
    "### Groups"
   ]
  },
  {
   "cell_type": "markdown",
   "id": "18540412",
   "metadata": {},
   "source": [
    "#### CreateGroup"
   ]
  },
  {
   "cell_type": "markdown",
   "id": "52a87e29-b057-4ae0-9ca9-438c9e2d177b",
   "metadata": {},
   "source": [
    "https://datatracker.ietf.org/doc/html/rfc7644#section-3.3"
   ]
  },
  {
   "cell_type": "code",
   "execution_count": null,
   "id": "d3fdcf58",
   "metadata": {},
   "outputs": [],
   "source": [
    "def createGroup(groupName=None):\n",
    "    if groupName:\n",
    "        data = {\"displayName\": f\"{groupName}\"}\n",
    "        res = post(path=f\"Groups\", data=json.dumps(data))\n",
    "        if res.status_code == 201:\n",
    "            return json.loads(res.text)['id']\n",
    "        else:\n",
    "            print(res.content)"
   ]
  },
  {
   "cell_type": "markdown",
   "id": "13869b37",
   "metadata": {},
   "source": [
    "#### ListGroups"
   ]
  },
  {
   "cell_type": "markdown",
   "id": "d2b71803-61e6-40ea-9358-47501eabc094",
   "metadata": {},
   "source": [
    "https://datatracker.ietf.org/doc/html/rfc7644#section-3.4.1"
   ]
  },
  {
   "cell_type": "code",
   "execution_count": null,
   "id": "b2e67cf9",
   "metadata": {},
   "outputs": [],
   "source": [
    "def listGroups(params=None):\n",
    "    res = get(path='Groups',params=params)\n",
    "    if res.status_code == 200:\n",
    "        groups = json.loads(res.text)\n",
    "        return groups"
   ]
  },
  {
   "cell_type": "markdown",
   "id": "7901e34e",
   "metadata": {},
   "source": [
    "#### HasGroupByName"
   ]
  },
  {
   "cell_type": "markdown",
   "id": "7d6639ff-be84-4b8a-a7f2-6ba4dd0c179b",
   "metadata": {},
   "source": [
    "https://datatracker.ietf.org/doc/html/rfc7644#section-3.4.1"
   ]
  },
  {
   "cell_type": "code",
   "execution_count": null,
   "id": "620f4959",
   "metadata": {},
   "outputs": [],
   "source": [
    "def hasGroupByName(groupName=None):\n",
    "    if groupName:\n",
    "        groups = listGroups(f'filter=displayName eq \"{groupName}\"')['Resources']\n",
    "        for g in groups:\n",
    "            if g['displayName'] == groupName:\n",
    "                return True\n",
    "    return False"
   ]
  },
  {
   "cell_type": "markdown",
   "id": "b8cf7981",
   "metadata": {},
   "source": [
    "#### GetGroupIDByName"
   ]
  },
  {
   "cell_type": "markdown",
   "id": "6d3131c4-5430-4a8e-8f57-d85559c6cf99",
   "metadata": {},
   "source": [
    "https://datatracker.ietf.org/doc/html/rfc7644#section-3.4.1"
   ]
  },
  {
   "cell_type": "code",
   "execution_count": null,
   "id": "e630d890",
   "metadata": {},
   "outputs": [],
   "source": [
    "def getGroupIBByName(groupName=None):\n",
    "    if groupName:\n",
    "        groups = listGroups(f'filter=displayName eq \"{groupName}\"')['Resources']\n",
    "        for g in groups:\n",
    "            if g['displayName'] == groupName:\n",
    "                return g['id']"
   ]
  },
  {
   "cell_type": "markdown",
   "id": "ec436b06",
   "metadata": {},
   "source": [
    "#### GetGroup"
   ]
  },
  {
   "cell_type": "markdown",
   "id": "e144f2dc-b59d-459b-bd8d-1ec01547fc90",
   "metadata": {},
   "source": [
    "https://datatracker.ietf.org/doc/html/rfc7644#section-3.4.1"
   ]
  },
  {
   "cell_type": "code",
   "execution_count": null,
   "id": "6b1f6a99",
   "metadata": {},
   "outputs": [],
   "source": [
    "def getGroup(group_id=None):\n",
    "    if group_id:\n",
    "        res = get(path=f\"Groups/{group_id}\")\n",
    "        if res.status_code == 200:\n",
    "            return json.loads(res.text)"
   ]
  },
  {
   "cell_type": "markdown",
   "id": "1151cdf9",
   "metadata": {},
   "source": [
    "#### UpdateGroup"
   ]
  },
  {
   "cell_type": "markdown",
   "id": "fd9476bd-e7a6-4711-967d-960283214ced",
   "metadata": {},
   "source": [
    "https://datatracker.ietf.org/doc/html/rfc7644#section-3.5.2"
   ]
  },
  {
   "cell_type": "code",
   "execution_count": null,
   "id": "92ca7169",
   "metadata": {},
   "outputs": [],
   "source": [
    "def updateGroup(group_id=None, operation=None, members=None):\n",
    "    if group_id and operation and members:\n",
    "        data = {\n",
    "            \"schemas\":[\"urn:ietf:params:scim:api:messages:2.0:PatchOp\"],\n",
    "            \"Operations\":[\n",
    "                {\n",
    "                    \"op\": f\"{operation}\",\n",
    "                    \"path\": \"members\",\n",
    "                    \"value\":[{\"value\": f\"{member}\"} for member in members]\n",
    "                }\n",
    "            ]\n",
    "        }\n",
    "        res = patch(path=f\"Groups/{group_id}\", data=json.dumps(data))\n",
    "        if res.status_code == 204:\n",
    "            return True\n",
    "        else:\n",
    "            print(res.content)\n",
    "            return False"
   ]
  },
  {
   "cell_type": "code",
   "execution_count": null,
   "id": "74418b78",
   "metadata": {},
   "outputs": [],
   "source": [
    "def updateGroupFix(group_id=None, operation=None, members=[]):\n",
    "    if len(members) > 0:\n",
    "        data_values = [{\"value\": f\"{member}\"} for member in members]\n",
    "    else:\n",
    "        data_values = [{\"value\": \"\"}]\n",
    "        \n",
    "    if group_id and operation:\n",
    "        print(f\"Updating {group_id}\")\n",
    "        data = {\n",
    "            \"schemas\":[\"urn:ietf:params:scim:api:messages:2.0:PatchOp\"],\n",
    "            \"Operations\":[\n",
    "                {\n",
    "                    \"op\": f\"{operation}\",\n",
    "                    \"path\": \"members\",\n",
    "                    \"value\": data_values\n",
    "                }\n",
    "            ]\n",
    "        }\n",
    "        res = patch(path=f\"Groups/{group_id}\", data=json.dumps(data))\n",
    "        if res.status_code == 204:\n",
    "            return True\n",
    "        else:\n",
    "            print(res.content)\n",
    "            return False"
   ]
  },
  {
   "cell_type": "markdown",
   "id": "63b4fc7f",
   "metadata": {},
   "source": [
    "#### DeleteGroup"
   ]
  },
  {
   "cell_type": "markdown",
   "id": "7e3be8f3-cf51-404c-9c34-7210341c83de",
   "metadata": {},
   "source": [
    "https://datatracker.ietf.org/doc/html/rfc7644#section-3.6"
   ]
  },
  {
   "cell_type": "code",
   "execution_count": null,
   "id": "5390adb6",
   "metadata": {},
   "outputs": [],
   "source": [
    "def deleteGroup(group_id=None):\n",
    "    res = delete(path=f\"Groups/{group_id}\")\n",
    "    if res.status_code == 204:\n",
    "        return True\n",
    "    return False"
   ]
  },
  {
   "cell_type": "markdown",
   "id": "8375620f",
   "metadata": {},
   "source": [
    "### CreateOrUpdateUser"
   ]
  },
  {
   "cell_type": "markdown",
   "id": "c7461c4b-2e67-4c59-ac46-79eb47cf48c1",
   "metadata": {},
   "source": [
    "Method for creating or updating a user by SCIM provisioning"
   ]
  },
  {
   "cell_type": "code",
   "execution_count": null,
   "id": "d325243e-b875-4aaa-ba6b-bd1864bc122b",
   "metadata": {},
   "outputs": [],
   "source": [
    "def CreateOrUpdateUser(member=None):\n",
    "    print(f\"{member['displayName']} => {member['active']}\")\n",
    "    if not hasUserByUsername(member['userName']):\n",
    "        print(f\"--> Creating user {member['userName']} -> {member['displayName']}\")\n",
    "        ID = createUser(userName=member['userName'],\n",
    "                        familyName=member['familyName'],\n",
    "                        givenName=member['givenName'],\n",
    "                        displayName=member['displayName'],\n",
    "                        email=member['email'],\n",
    "                        preferredLanguage=\"en-US\",\n",
    "                        locale=\"en-US\",\n",
    "                        timezone=\"America/Sao_Paulo\",\n",
    "                        active=member['active'])\n",
    "        if ID:\n",
    "            print(f\"----> User created: {ID}\")\n",
    "        else:\n",
    "            print(\"----> User create failed\")\n",
    "    else:\n",
    "        ID = getUserIDByUsername(member['userName'])\n",
    "        print(f\"--> Updating user {member['userName']} -> {member['displayName']} -> {ID}\")  \n",
    "        if replaceUser(user_id=ID,\n",
    "                       userName=member['userName'],\n",
    "                       familyName=member['familyName'],\n",
    "                       givenName=member['givenName'],\n",
    "                       displayName=member['displayName'],\n",
    "                       email=member['email'],\n",
    "                       preferredLanguage=\"en-US\",\n",
    "                       locale=\"en-US\",\n",
    "                       timezone=\"America/Sao_Paulo\",\n",
    "                       active=member['active']):\n",
    "            print(\"----> User updated\")\n",
    "        else:\n",
    "            print(\"----> User update failed\")\n",
    "    return ID"
   ]
  },
  {
   "cell_type": "markdown",
   "id": "8180796e-43f6-41b7-a7b1-df8526b0ba46",
   "metadata": {},
   "source": [
    "### listOfUsernamesToIDS"
   ]
  },
  {
   "cell_type": "markdown",
   "id": "e6640d89-fe51-432c-aa42-06209c98388e",
   "metadata": {},
   "source": [
    "Helper to create a list of IDs from a list of usernames. Need a dictionary to do the black magic to work"
   ]
  },
  {
   "cell_type": "code",
   "execution_count": null,
   "id": "76c732df-a006-412e-a8e3-693338ef6fa3",
   "metadata": {},
   "outputs": [],
   "source": [
    "def listOfUsernamesToIDS(usernames=None, usernames_dict=None):\n",
    "    IDs=[]\n",
    "    for username in usernames:\n",
    "        if username in usernames_dict:\n",
    "            IDs.append(usernames_dict[username])\n",
    "    return IDs"
   ]
  },
  {
   "cell_type": "markdown",
   "id": "9d3b9b37",
   "metadata": {},
   "source": [
    "## Create Users and Groups"
   ]
  },
  {
   "cell_type": "code",
   "execution_count": null,
   "id": "2b9691c4",
   "metadata": {},
   "outputs": [],
   "source": [
    "groups_with_members=[]\n",
    "groups_with_members.append(\n",
    "    {\n",
    "        'group_name': 'group1',\n",
    "        'group_members':[\n",
    "            {'userName': 'user1', 'familyName': 'user1', 'givenName': 'user1', 'displayName': 'user1', 'email': 'user1@foo.bar', 'preferredLanguage': 'en-US', 'locale': 'en-US', 'timezone': 'America/Sao_Paulo', 'active': True},\n",
    "            {'userName': 'user2', 'familyName': 'user2', 'givenName': 'user2', 'displayName': 'user2', 'email': 'user2@foo.bar', 'preferredLanguage': 'en-US', 'locale': 'en-US', 'timezone': 'America/Sao_Paulo', 'active': True},\n",
    "        ]\n",
    "    }\n",
    ")\n",
    "groups_with_members.append(\n",
    "    {\n",
    "        'group_name': 'group2',\n",
    "        'group_members':[\n",
    "            {'userName': 'user1', 'familyName': 'user1', 'givenName': 'user1', 'displayName': 'user1', 'email': 'user1@foo.bar', 'preferredLanguage': 'en-US', 'locale': 'en-US', 'timezone': 'America/Sao_Paulo', 'active': True},\n",
    "            {'userName': 'user3', 'familyName': 'user3', 'givenName': 'user3', 'displayName': 'user3', 'email': 'user3@foo.bar', 'preferredLanguage': 'en-US', 'locale': 'en-US', 'timezone': 'America/Sao_Paulo', 'active': True},\n",
    "        ]\n",
    "    }\n",
    ")\n"
   ]
  },
  {
   "cell_type": "markdown",
   "id": "4bb84201",
   "metadata": {},
   "source": [
    "### Run and Create"
   ]
  },
  {
   "cell_type": "markdown",
   "id": "e7b27c47-e530-48e1-8be3-e7c22d9a6723",
   "metadata": {},
   "source": [
    "#### members_dict"
   ]
  },
  {
   "cell_type": "markdown",
   "id": "a51c6db1-b8d3-47f9-8215-be2bce622b66",
   "metadata": {},
   "source": [
    "Dict to store username => id\n",
    "\n",
    "```{'username1': 'id1', 'username2': 'id2', 'username..n': 'id..n'}```"
   ]
  },
  {
   "cell_type": "code",
   "execution_count": null,
   "id": "228e9eae-161a-4b5d-8c24-4287abbb2851",
   "metadata": {},
   "outputs": [],
   "source": [
    "members_dict={}"
   ]
  },
  {
   "cell_type": "markdown",
   "id": "5eeef13f-07b6-41a5-969d-ad0f9d51f000",
   "metadata": {},
   "source": [
    "#### members_unique"
   ]
  },
  {
   "cell_type": "markdown",
   "id": "bcc930b1-cefe-4937-814b-8b35f49bc220",
   "metadata": {},
   "source": [
    "List of members dict\n",
    "\n",
    "``` [{member1}, {member2}, {member..n}] ```"
   ]
  },
  {
   "cell_type": "code",
   "execution_count": null,
   "id": "e19a71a8-a315-4759-8336-616afb87a68d",
   "metadata": {},
   "outputs": [],
   "source": [
    "members_unique=[]"
   ]
  },
  {
   "cell_type": "markdown",
   "id": "6cba7511-7cc0-45a5-b0a9-00c048e8214a",
   "metadata": {},
   "source": [
    "#### Populate members_dict and members_unique"
   ]
  },
  {
   "cell_type": "code",
   "execution_count": null,
   "id": "f8e216e6-5cdf-4290-910a-75f40bf90d36",
   "metadata": {},
   "outputs": [],
   "source": [
    "total_processed=0\n",
    "for group in groups_with_members:\n",
    "    if group['group_members']:\n",
    "        for member in group['group_members']:\n",
    "            total_processed=total_processed+1\n",
    "            if not member in members_unique:\n",
    "                members_unique.append(member)\n",
    "                memberID = getUserIDByUsername(member['userName'])\n",
    "                members_dict[member['userName']]=memberID\n",
    "print(f\"Groups: {len(groups_with_members)} | Processed members: {total_processed} | Unique members: {len(members_unique)}\")\n",
    "\n"
   ]
  },
  {
   "cell_type": "markdown",
   "id": "2452e367-1f87-4114-9947-8762a72a0fed",
   "metadata": {},
   "source": [
    "#### Create or Update unique members"
   ]
  },
  {
   "cell_type": "code",
   "execution_count": null,
   "id": "3750421a-f738-4327-b914-ecc6b8270271",
   "metadata": {},
   "outputs": [],
   "source": [
    "cont=0\n",
    "for member in members_unique:\n",
    "    cont = cont +1\n",
    "    print(f\">{cont}/{len(members_unique)}\")\n",
    "    CreateOrUpdateUser(member)"
   ]
  },
  {
   "cell_type": "code",
   "execution_count": null,
   "id": "405970c2-4e69-4c79-b428-ccb0411fdeb1",
   "metadata": {},
   "outputs": [],
   "source": [
    "step=0\n",
    "for group in groups_with_members:\n",
    "    step=step+1\n",
    "    group_name = group['group_name'].upper()\n",
    "    print(f\"({step}/{len(groups_with_members)}) Working in the group: {group_name}\")\n",
    "    members=[]\n",
    "    if group['group_members']:\n",
    "        for member in group['group_members']:\n",
    "            members.append(member['userName'])\n",
    "    if members:\n",
    "        if hasGroupByName(group_name):\n",
    "            print(f\"--> Group exists\")\n",
    "            IDs = listOfUsernamesToIDS(members,members_dict)\n",
    "            GroupID = getGroupIBByName(group_name)\n",
    "            if updateGroup(GroupID,\"replace\",IDs):\n",
    "                print(\"----> Group members updated\")\n",
    "            else:\n",
    "                print(\"----> Group members update failed\")\n",
    "        else:\n",
    "            print(f\"--> Creating group\")\n",
    "            Group_ID = createGroup(group_name)\n",
    "            print(f\"----> Group created: {Group_ID}\")\n",
    "            time.sleep(5)            \n",
    "\n",
    "            if Group_ID:\n",
    "                print(\"----> Group created\")\n",
    "                IDs = listOfUsernamesToIDS(members,members_dict)\n",
    "                if updateGroup(GroupID,\"replace\",IDs):\n",
    "                    print(\"------> Group members updated\")\n",
    "                else:\n",
    "                    print(\"------> Group members update failed\")\n",
    "            else:\n",
    "                print(\"----> Group create failed\")\n"
   ]
  },
  {
   "cell_type": "markdown",
   "id": "5fea0960",
   "metadata": {},
   "source": [
    "# Show me the ~~code~~ problem!"
   ]
  },
  {
   "cell_type": "markdown",
   "id": "a86129a3",
   "metadata": {},
   "source": [
    "### 1. Correct, but doesn't work"
   ]
  },
  {
   "cell_type": "markdown",
   "id": "72a2295d",
   "metadata": {},
   "source": [
    "When we need to update a group with an empty list using SCIM, the correct payload is:\n",
    "\n",
    "```json\n",
    "{\n",
    "    \"schemas\":[\"urn:ietf:params:scim:api:messages:2.0:PatchOp\"],\n",
    "    \"Operations\":[\n",
    "        {\n",
    "            \"op\": \"replace\",\n",
    "            \"path\": \"members\",\n",
    "            \"value\":[]\n",
    "        }\n",
    "    ]\n",
    "}\n",
    "```\n",
    "\n",
    "The `value` must be an empty list. When we perform this action on the AWS IAM Identity Center SCIM Endpoint with the correct payload, it returns an HTTP status code of 204 but does not remove users from the group. See below:"
   ]
  },
  {
   "cell_type": "code",
   "execution_count": null,
   "id": "cc4af876",
   "metadata": {},
   "outputs": [],
   "source": [
    "def updateGroup1(group_id=None, operation=None, members=None):\n",
    "    if group_id and operation:\n",
    "        print(f\"Updating {group_id}\")\n",
    "        data = {\n",
    "            \"schemas\":[\"urn:ietf:params:scim:api:messages:2.0:PatchOp\"],\n",
    "            \"Operations\":[\n",
    "                {\n",
    "                    \"op\": f\"{operation}\",\n",
    "                    \"path\": \"members\",\n",
    "                    \"value\":[{\"value\": f\"{member}\"} for member in members]\n",
    "                }\n",
    "            ]\n",
    "        }\n",
    "        print(json.dumps(data))\n",
    "        res = patch(path=f\"Groups/{group_id}\", data=json.dumps(data))\n",
    "        if res.status_code == 204:\n",
    "            print(res)\n",
    "            print(res.content)\n",
    "            return True\n",
    "        else:\n",
    "            print(res)\n",
    "            print(res.content)\n",
    "            return False\n",
    "\n",
    "updateGroup1(getGroupIBByName('GROUP1'),\"replace\",[])\n"
   ]
  },
  {
   "cell_type": "markdown",
   "id": "37f92ed5",
   "metadata": {},
   "source": [
    "**See, the group still contains the users.**\n",
    "\n",
    "![](img/poc01.png)"
   ]
  },
  {
   "cell_type": "markdown",
   "id": "ff244e1d",
   "metadata": {},
   "source": [
    "### 2. Correct, but doesn't work (Other case)"
   ]
  },
  {
   "cell_type": "markdown",
   "id": "b164b36e",
   "metadata": {},
   "source": [
    "From [AWS IAM Identity Center Documentation](https://docs.aws.amazon.com/singlesignon/latest/developerguide/patchgroup.html):\n",
    "\n",
    "> In the value field, provide a list of objects containing the value of the user id. Multiple members can be removed at a time. If the value field contains an empty list or is not provided, all of the path’s members will be removed."
   ]
  },
  {
   "cell_type": "markdown",
   "id": "70ed6c2e",
   "metadata": {},
   "source": [
    "Then, let's test a new payload without `value`:\n",
    "\n",
    "```json\n",
    "{\n",
    "    \"schemas\":[\"urn:ietf:params:scim:api:messages:2.0:PatchOp\"],\n",
    "    \"Operations\":[\n",
    "        {\n",
    "            \"op\": \"replace\",\n",
    "            \"path\": \"members\",\n",
    "        }\n",
    "    ]\n",
    "}\n",
    "```\n",
    "\n",
    "Again, when we execute this action on the AWS IAM Identity Center SCIM Endpoint with another correct payload, it returns an HTTP status code of 204 but does not remove users from the group. See below:"
   ]
  },
  {
   "cell_type": "code",
   "execution_count": null,
   "id": "64ed2467",
   "metadata": {},
   "outputs": [],
   "source": [
    "def updateGroup3(group_id=None, operation=None, members=[]):\n",
    "    if len(members) > 0:\n",
    "        data_values = [{\"value\": f\"{member}\"} for member in members]\n",
    "        data = {\n",
    "            \"schemas\":[\"urn:ietf:params:scim:api:messages:2.0:PatchOp\"],\n",
    "            \"Operations\":[\n",
    "                {\n",
    "                    \"op\": f\"{operation}\",\n",
    "                    \"path\": \"members\",\n",
    "                    \"value\": data_values\n",
    "                }\n",
    "            ]\n",
    "        }\n",
    "    else:\n",
    "        data = {\n",
    "            \"schemas\":[\"urn:ietf:params:scim:api:messages:2.0:PatchOp\"],\n",
    "            \"Operations\":[\n",
    "                {\n",
    "                    \"op\": f\"{operation}\",\n",
    "                    \"path\": \"members\",\n",
    "                }\n",
    "            ]\n",
    "        }\n",
    "        \n",
    "    if group_id and operation:\n",
    "        print(f\"Updating {group_id}\")\n",
    "        print(json.dumps(data))\n",
    "        res = patch(path=f\"Groups/{group_id}\", data=json.dumps(data))\n",
    "        if res.status_code == 204:\n",
    "            print(res)\n",
    "            print(res.content)\n",
    "            return True\n",
    "        else:\n",
    "            print(res)\n",
    "            print(res.content)\n",
    "            return False\n",
    "\n",
    "updateGroup3(getGroupIBByName('GROUP1'),\"replace\",[])"
   ]
  },
  {
   "cell_type": "markdown",
   "id": "643032db",
   "metadata": {},
   "source": [
    "**See, the same result, group still contains the users.**\n",
    "\n",
    "![](img/poc01.png)"
   ]
  },
  {
   "cell_type": "markdown",
   "id": "d2f2b384",
   "metadata": {},
   "source": [
    "### 3. Wrong, but work"
   ]
  },
  {
   "cell_type": "markdown",
   "id": "1c886f83",
   "metadata": {},
   "source": [
    "Now we will proceed with the incorrect payload:\n",
    "\n",
    "```json\n",
    "{\n",
    "    \"schemas\":[\"urn:ietf:params:scim:api:messages:2.0:PatchOp\"],\n",
    "    \"Operations\":[\n",
    "        {\n",
    "            \"op\": \"replace\",\n",
    "            \"path\": \"members\",\n",
    "            \"value\":[{\"value\": \"\"}]\n",
    "        }\n",
    "    ]\n",
    "}\n",
    "```\n",
    "\n",
    "Now, the AWS IAM Identity Center SCIM Endpoint will return an HTTP status code of 400 along with an error message, but it removes users from the group. See below:"
   ]
  },
  {
   "cell_type": "code",
   "execution_count": null,
   "id": "c5e5087f",
   "metadata": {},
   "outputs": [],
   "source": [
    "def updateGroup2(group_id=None, operation=None, members=[]):\n",
    "    if len(members) > 0:\n",
    "        data_values = [{\"value\": f\"{member}\"} for member in members]\n",
    "    else:\n",
    "        data_values = [{\"value\": \"\"}]\n",
    "        \n",
    "    if group_id and operation:\n",
    "        print(f\"Updating {group_id}\")\n",
    "        data = {\n",
    "            \"schemas\":[\"urn:ietf:params:scim:api:messages:2.0:PatchOp\"],\n",
    "            \"Operations\":[\n",
    "                {\n",
    "                    \"op\": f\"{operation}\",\n",
    "                    \"path\": \"members\",\n",
    "                    \"value\": data_values\n",
    "                }\n",
    "            ]\n",
    "        }\n",
    "        print(json.dumps(data))\n",
    "        res = patch(path=f\"Groups/{group_id}\", data=json.dumps(data))\n",
    "        if res.status_code == 204:\n",
    "            print(res)\n",
    "            print(res.content)\n",
    "            return True\n",
    "        else:\n",
    "            print(res)\n",
    "            print(res.content)\n",
    "            return False\n",
    "\n",
    "updateGroup2(getGroupIBByName('GROUP1'),\"replace\",[])"
   ]
  },
  {
   "cell_type": "markdown",
   "id": "abec8981",
   "metadata": {},
   "source": [
    "**See now, although an error was returned, the group is empty.**\n",
    "\n",
    "![](img/poc02.png)"
   ]
  },
  {
   "cell_type": "markdown",
   "id": "0f94f389",
   "metadata": {},
   "source": [
    "### Just one more complaint, if I may"
   ]
  },
  {
   "cell_type": "markdown",
   "id": "e40fe58e",
   "metadata": {},
   "source": [
    "\n",
    "The `GET /Groups/<ID>` method returns the `members` attribute as empty. According to [RFC7643](https://datatracker.ietf.org/doc/html/rfc7643#section-8.4), it should return this JSON:\n",
    "\n",
    "```json\n",
    " {\n",
    "     \"schemas\": [\"urn:ietf:params:scim:schemas:core:2.0:Group\"],\n",
    "     \"id\": \"e9e30dba-f08f-4109-8486-d5c6a331660a\",\n",
    "     \"displayName\": \"Tour Guides\",\n",
    "     \"members\": [\n",
    "       {\n",
    "         \"value\": \"2819c223-7f76-453a-919d-413861904646\",\n",
    "         \"$ref\":\n",
    "   \"https://example.com/v2/Users/2819c223-7f76-453a-919d-413861904646\",\n",
    "         \"display\": \"Babs Jensen\"\n",
    "       },\n",
    "       {\n",
    "         \"value\": \"902c246b-6245-4190-8e05-00816be7344a\",\n",
    "         \"$ref\":\n",
    "   \"https://example.com/v2/Users/902c246b-6245-4190-8e05-00816be7344a\",\n",
    "         \"display\": \"Mandy Pepperidge\"\n",
    "       }\n",
    "     ],\n",
    "     \"meta\": {\n",
    "       \"resourceType\": \"Group\",\n",
    "       \"created\": \"2010-01-23T04:56:22Z\",\n",
    "       \"lastModified\": \"2011-05-13T04:42:34Z\",\n",
    "       \"version\": \"W\\/\\\"3694e05e9dff592\\\"\",\n",
    "       \"location\":\n",
    "   \"https://example.com/v2/Groups/e9e30dba-f08f-4109-8486-d5c6a331660a\"\n",
    "     }\n",
    "   }\n",
    "```"
   ]
  }
 ],
 "metadata": {
  "kernelspec": {
   "display_name": "Python 3 (ipykernel)",
   "language": "python",
   "name": "python3"
  },
  "language_info": {
   "codemirror_mode": {
    "name": "ipython",
    "version": 3
   },
   "file_extension": ".py",
   "mimetype": "text/x-python",
   "name": "python",
   "nbconvert_exporter": "python",
   "pygments_lexer": "ipython3",
   "version": "3.12.2"
  }
 },
 "nbformat": 4,
 "nbformat_minor": 5
}
